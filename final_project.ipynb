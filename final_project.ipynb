{
 "cells": [
  {
   "cell_type": "markdown",
   "metadata": {},
   "source": [
    "## One Codex Analysis \n",
    "**Commands used in Terminal:**  \n",
    ">onecodex login  \n",
    "  \n",
    ">onecodex upload /data/metagenomes/160523Alm_D16-4703_1_sequence.fastq.gz  \n",
    "\n",
    "### OneCodex Analysis Summary   \n",
    "[link to OneCodex webpage](https://app.onecodex.com/analysis/public/4e7f925b80bc48b6)  \n",
    "  \n",
    "In the analyzed soil sample, Actinomyces odontolyticus has the highest abundance (27.88%). It is a anaerobic gram positive bacteria, in the shape of short or medium rods. Armatimonadetes bacterium (8.88%), Actinobacteria bacterium (7.17%), Candidatus Rokubacteria bacterium (5.51%) and various other microbes are also present in the sample in lower abundance.\n",
    "\n",
    "Reference: (Cone, Lawrence A, et al. Actinomyces Case Reports Odontolyticus Patient 1 Bacteremia. wwwnc.cdc.gov/eid/article/9/12/pdfs/02-0646.pdf."
   ]
  },
  {
   "cell_type": "code",
   "execution_count": null,
   "metadata": {},
   "outputs": [],
   "source": []
  }
 ],
 "metadata": {
  "kernelspec": {
   "display_name": "Python 3",
   "language": "python",
   "name": "python3"
  },
  "language_info": {
   "codemirror_mode": {
    "name": "ipython",
    "version": 3
   },
   "file_extension": ".py",
   "mimetype": "text/x-python",
   "name": "python",
   "nbconvert_exporter": "python",
   "pygments_lexer": "ipython3",
   "version": "3.6.6"
  }
 },
 "nbformat": 4,
 "nbformat_minor": 2
}
